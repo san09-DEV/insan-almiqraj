{
 "cells": [
  {
   "cell_type": "code",
   "execution_count": null,
   "metadata": {},
   "outputs": [],
   "source": [
    "data_panen = {\n",
    "    'lokasi1': {\n",
    "        'nama_lokasi': 'Kebun A',\n",
    "        'hasil_panen': {\n",
    "            'padi': 1200,\n",
    "            'jagung': 800,\n",
    "            'kedelai': 500\n",
    "        }\n",
    "    },\n",
    "    'lokasi2': {\n",
    "        'nama_lokasi': 'Kebun B',\n",
    "        'hasil_panen': {\n",
    "            'padi': 1500,\n",
    "            'jagung': 900,\n",
    "            'kedelai': 450\n",
    "        }\n",
    "    },\n",
    "    'lokasi3': {\n",
    "        'nama_lokasi': 'Kebun C',\n",
    "        'hasil_panen': {\n",
    "            'padi': 1100,\n",
    "            'jagung': 750,\n",
    "            'kedelai': 600\n",
    "        }\n",
    "    },\n",
    "    'lokasi4': {\n",
    "        'nama_lokasi': 'Kebun D',\n",
    "        'hasil_panen': {\n",
    "            'padi': 1300,\n",
    "            'jagung': 850,\n",
    "            'kedelai': 550\n",
    "        }\n",
    "    },\n",
    "    'lokasi5': {\n",
    "        'nama_lokasi': 'Kebun E',\n",
    "        'hasil_panen': {\n",
    "            'padi': 1400,\n",
    "            'jagung': 950,\n",
    "            'kedelai': 480\n",
    "        }\n",
    "    }\n",
    "}\n"
   ]
  },
  {
   "cell_type": "code",
   "execution_count": null,
   "metadata": {},
   "outputs": [
    {
     "name": "stdout",
     "output_type": "stream",
     "text": [
      "Data Panen di Semua Lokasi:\n",
      "Lokasi: Kebun A\n",
      "  Padi: 1200 kg\n",
      "  Jagung: 800 kg\n",
      "  Kedelai: 500 kg\n",
      "\n",
      "Lokasi: Kebun B\n",
      "  Padi: 1500 kg\n",
      "  Jagung: 900 kg\n",
      "  Kedelai: 450 kg\n",
      "\n",
      "Lokasi: Kebun C\n",
      "  Padi: 1100 kg\n",
      "  Jagung: 750 kg\n",
      "  Kedelai: 600 kg\n",
      "\n",
      "Lokasi: Kebun D\n",
      "  Padi: 1300 kg\n",
      "  Jagung: 850 kg\n",
      "  Kedelai: 550 kg\n",
      "\n",
      "Lokasi: Kebun E\n",
      "  Padi: 1400 kg\n",
      "  Jagung: 950 kg\n",
      "  Kedelai: 480 kg\n",
      "\n"
     ]
    }
   ],
   "source": [
    "data_panen = [\n",
    "    ('Kebun A', 1200, 800, 500),\n",
    "    ('Kebun B', 1500, 900, 450),\n",
    "    ('Kebun C', 1100, 750, 600),\n",
    "    ('Kebun D', 1300, 850, 550),\n",
    "    ('Kebun E', 1400, 950, 480)\n",
    "]\n",
    "\n",
    "print(\"Data Panen di Semua Lokasi:\")\n",
    "for data in data_panen:\n",
    "    print(f\"Lokasi: {data[0]}\")\n",
    "    print(f\"  Padi: {data[1]} kg\")\n",
    "    print(f\"  Jagung: {data[2]} kg\")\n",
    "    print(f\"  Kedelai: {data[3]} kg\")\n",
    "    print()\n"
   ]
  },
  {
   "cell_type": "code",
   "execution_count": 20,
   "metadata": {},
   "outputs": [
    {
     "name": "stdout",
     "output_type": "stream",
     "text": [
      "Jumlah hasil panen jagung di Lokasi 2: 900 kg\n",
      "\n"
     ]
    }
   ],
   "source": [
    "jagung_lokasi2 = data_panen[1][2]  \n",
    "print(f\"Jumlah hasil panen jagung di Lokasi 2: {jagung_lokasi2} kg\\n\")\n"
   ]
  },
  {
   "cell_type": "code",
   "execution_count": null,
   "metadata": {},
   "outputs": [
    {
     "name": "stdout",
     "output_type": "stream",
     "text": [
      "Nama Lokasi 3: Kebun C\n",
      "\n"
     ]
    }
   ],
   "source": [
    "print(f\"Nama Lokasi 3: {nama_lokasi3}\\n\")\n"
   ]
  },
  {
   "cell_type": "code",
   "execution_count": 23,
   "metadata": {},
   "outputs": [
    {
     "name": "stdout",
     "output_type": "stream",
     "text": [
      "Hasil panen padi di setiap lokasi: [1200, 1500, 1100, 1300, 1400]\n",
      "Hasil panen kedelai di setiap lokasi: [500, 450, 600, 550, 480]\n",
      "\n"
     ]
    }
   ],
   "source": [
    "hasil_padi = [lokasi[1] for lokasi in data_panen]  \n",
    "hasil_kedelai = [lokasi[3] for lokasi in data_panen]  \n",
    "print(\"Hasil panen padi di setiap lokasi:\", hasil_padi)\n",
    "print(\"Hasil panen kedelai di setiap lokasi:\", hasil_kedelai)\n",
    "print()\n"
   ]
  },
  {
   "cell_type": "code",
   "execution_count": 25,
   "metadata": {},
   "outputs": [
    {
     "name": "stdout",
     "output_type": "stream",
     "text": [
      "\n",
      "Analisis Kondisi Lokasi:\n",
      "Kebun A dalam kondisi baik.\n",
      "Kebun B butuh perhatian khusus.\n",
      "Kebun C dalam kondisi baik.\n",
      "Kebun D butuh perhatian khusus.\n",
      "Kebun E butuh perhatian khusus.\n"
     ]
    }
   ],
   "source": [
    "print(\"\\nAnalisis Kondisi Lokasi:\")\n",
    "for lokasi in data_panen:\n",
    "    padi = lokasi[1]  \n",
    "    jagung = lokasi[2]  \n",
    "    if padi > 1300 or jagung > 800:\n",
    "        print(f\"{lokasi[0]} butuh perhatian khusus.\")\n",
    "    else:\n",
    "        print(f\"{lokasi[0]} dalam kondisi baik.\")\n"
   ]
  }
 ],
 "metadata": {
  "kernelspec": {
   "display_name": "Python 3",
   "language": "python",
   "name": "python3"
  },
  "language_info": {
   "codemirror_mode": {
    "name": "ipython",
    "version": 3
   },
   "file_extension": ".py",
   "mimetype": "text/x-python",
   "name": "python",
   "nbconvert_exporter": "python",
   "pygments_lexer": "ipython3",
   "version": "3.11.9"
  }
 },
 "nbformat": 4,
 "nbformat_minor": 2
}
